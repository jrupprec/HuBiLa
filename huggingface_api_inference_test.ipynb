{
 "cells": [
  {
   "cell_type": "code",
   "execution_count": 33,
   "metadata": {},
   "outputs": [],
   "source": [
    "import requests\n",
    "\n",
    "API_URL = \"https://api-inference.huggingface.co/models/mistralai/Mixtral-8x7B-Instruct-v0.1\"\n",
    "\n",
    "file = open(\"..\\Administration\\HF_token.txt\", \"r\")\n",
    "token = file.read()\n",
    "headers = {\"Authorization\": \"Bearer \"+ token}\n",
    "\n",
    "def query(payload):\n",
    "\tresponse = requests.post(API_URL, headers=headers, json=payload)\n",
    "\treturn response.json()\n",
    "\n",
    "question = \"\"\"Important in life: Work For each of the following aspects, indicate how imp ortant it is in your life. \n",
    "Would you say it is very important, rather important, not ver y important or not important at all? – Work\"\"\"\n",
    "\n",
    "answer_options = \"\"\"[1=Very important , 2=Rather important , 3=Not very important , 4=Not important at all, \n",
    "-1=Don´t know, -2=No answer, -4=Not asked in this country, -5=Missing; Not available]\"\"\"\n",
    "\n",
    "output = query({\n",
    "\t\"inputs\": f\"\"\"Answer the following question with exactly one number of the answer option. \n",
    " This is the question: {question}. This are the answer options: {answer_options}. Just return the number of the chosen answer!\"\"\",\n",
    "})"
   ]
  },
  {
   "cell_type": "code",
   "execution_count": 34,
   "metadata": {},
   "outputs": [
    {
     "data": {
      "text/plain": [
       "[{'generated_text': 'Answer the following question with exactly one number of the answer option. \\n This is the question: Important in life: Work For each of the following aspects, indicate how imp ortant it is in your life. \\nWould you say it is very important, rather important, not ver y important or not important at all? – Work. This are the answer options: [1=Very important , 2=Rather important , 3=Not very important , 4=Not important at all, \\n-1=Don´t know, -2=No answer, -4=Not asked in this country, -5=Missing; Not available]. Just return the number of the chosen answer!\\n\\nAnswer: [1]'}]"
      ]
     },
     "execution_count": 34,
     "metadata": {},
     "output_type": "execute_result"
    }
   ],
   "source": [
    "output"
   ]
  },
  {
   "cell_type": "code",
   "execution_count": 36,
   "metadata": {},
   "outputs": [
    {
     "name": "stdout",
     "output_type": "stream",
     "text": [
      "[{'generated_text': 'Answer the following question with exactly one number of the answer option. \\n This is the question: Important in life: Work For each of the following aspects, indicate how imp ortant it is in your life. \\nWould you say it is very important, rather important, not ver y important or not important at all? – Work. These are the answer options: [1=Very important , 2=Rather important , 3=Not very important , 4=Not important at all, \\n-1=Don´t know, -2=No answer, -4=Not asked in this country, -5=Missing; Not available]. Just return the number of the chosen answer!\\n\\n'}]\n"
     ]
    }
   ],
   "source": [
    "API_URL_llama = \"https://api-inference.huggingface.co/models/microsoft/Phi-3-mini-4k-instruct\"\n",
    "\n",
    "def query_llama(payload):\n",
    "\tresponse = requests.post(API_URL_llama, headers=headers, json=payload)\n",
    "\treturn response.json()\n",
    "\n",
    "question = \"\"\"Important in life: Work For each of the following aspects, indicate how imp ortant it is in your life. \n",
    "Would you say it is very important, rather important, not ver y important or not important at all? – Work\"\"\"\n",
    "\n",
    "answer_options = \"\"\"[1=Very important , 2=Rather important , 3=Not very important , 4=Not important at all, \n",
    "-1=Don´t know, -2=No answer, -4=Not asked in this country, -5=Missing; Not available]\"\"\"\n",
    "\n",
    "output_llama = query_llama({\n",
    "\t\"inputs\": f\"\"\"Answer the following question with exactly one number of the answer option. \n",
    " This is the question: {question}. These are the answer options: {answer_options}. Just return the number of the chosen answer!\"\"\",\n",
    "})\t\n",
    "\n",
    "print(output_llama)"
   ]
  }
 ],
 "metadata": {
  "kernelspec": {
   "display_name": "base",
   "language": "python",
   "name": "python3"
  },
  "language_info": {
   "codemirror_mode": {
    "name": "ipython",
    "version": 3
   },
   "file_extension": ".py",
   "mimetype": "text/x-python",
   "name": "python",
   "nbconvert_exporter": "python",
   "pygments_lexer": "ipython3",
   "version": "3.11.5"
  }
 },
 "nbformat": 4,
 "nbformat_minor": 2
}
