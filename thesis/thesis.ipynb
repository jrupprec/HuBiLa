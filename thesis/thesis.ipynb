{
  "cells": [
    {
      "cell_type": "raw",
      "metadata": {},
      "source": [
        "---\n",
        "title: \"HuBiLa: Human Biases in Large Language Models\"\n",
        "subtitle: \"Investigating Response and Prompt Perturbation Biases in LLMs: A Survey Design Perspective\"\n",
        "author: \"Jens Rupprecht\"\n",
        "date: today\n",
        "execute: \n",
        "  echo: false\n",
        "format: \n",
        "    pdf: \n",
        "        #documentclass: DESSTemplateUpdate\n",
        "        documentclass: scrartcl\n",
        "        number-sections: true\n",
        "        toc: true\n",
        "        toc-title: Contents\n",
        "        template-partials: \n",
        "            - before-body.tex\n",
        "    \n",
        "---"
      ],
      "id": "f807773d"
    },
    {
      "cell_type": "markdown",
      "metadata": {},
      "source": [
        "\\newpage\n",
        "\n",
        "# Introduction\n",
        "\n",
        "# Related Work\n",
        "## Human Biases in Survey Methodology\n",
        "## Effects of Prompt Perturbations\n",
        "\n",
        "# Research Design\n",
        "## Data and Infrastructure\n",
        "## Question Design\n",
        "## Prompt Perturbations\n",
        "## Evaluation\n",
        "\n",
        "# Results\n",
        "\n",
        "# Discussion and Limitations\n",
        "# Conclusion\n"
      ],
      "id": "5c36867c"
    },
    {
      "cell_type": "code",
      "metadata": {},
      "source": [
        "# this is some code\n",
        "x = 5 + 1\n",
        "print(f\"The result is {x}\")"
      ],
      "id": "6eecb978",
      "execution_count": null,
      "outputs": []
    },
    {
      "cell_type": "markdown",
      "metadata": {},
      "source": [
        "The result is `{python} x`"
      ],
      "id": "a117c0ca"
    }
  ],
  "metadata": {
    "kernelspec": {
      "display_name": "Python 3",
      "language": "python",
      "name": "python3"
    }
  },
  "nbformat": 4,
  "nbformat_minor": 5
}